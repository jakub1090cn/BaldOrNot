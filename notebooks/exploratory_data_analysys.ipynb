{
 "cells": [
  {
   "cell_type": "code",
   "execution_count": 0,
   "outputs": [],
   "source": [
    "import zipfile\n",
    "import os"
   ],
   "metadata": {
    "collapsed": false
   }
  },
  {
   "cell_type": "code",
   "execution_count": null,
   "outputs": [],
   "source": [
    "def unzip_data(path_in, path_out):\n",
    "    if not os.path.exists(path_out):\n",
    "        os.makedirs(path_out)\n",
    "\n",
    "    with zipfile.ZipFile(path_in, 'r') as zip_ref:\n",
    "        zip_ref.extractall(path_out)\n",
    "\n",
    "    print(f\"Plik {path_in} został rozpakowany do {path_out}\")\n"
   ],
   "metadata": {
    "collapsed": false
   }
  },
  {
   "cell_type": "code",
   "execution_count": null,
   "outputs": [],
   "source": [
    "zip_file_path = '../src/data.zip'\n",
    "extract_path = './extracted_data'\n",
    "unzip_data(zip_file_path, extract_path)"
   ],
   "metadata": {
    "collapsed": false
   }
  }
 ],
 "metadata": {
  "kernelspec": {
   "display_name": "Python 3",
   "language": "python",
   "name": "python3"
  },
  "language_info": {
   "codemirror_mode": {
    "name": "ipython",
    "version": 2
   },
   "file_extension": ".py",
   "mimetype": "text/x-python",
   "name": "python",
   "nbconvert_exporter": "python",
   "pygments_lexer": "ipython2",
   "version": "2.7.6"
  }
 },
 "nbformat": 4,
 "nbformat_minor": 0
}
