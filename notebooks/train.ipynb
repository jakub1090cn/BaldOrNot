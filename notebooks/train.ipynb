{
  "nbformat": 4,
  "nbformat_minor": 0,
  "metadata": {
    "colab": {
      "provenance": [],
      "authorship_tag": "ABX9TyOqB7uF6d9hkoKKJKe6bnQp",
      "include_colab_link": true
    },
    "kernelspec": {
      "name": "python3",
      "display_name": "Python 3"
    },
    "language_info": {
      "name": "python"
    }
  },
  "cells": [
    {
      "cell_type": "markdown",
      "metadata": {
        "id": "view-in-github",
        "colab_type": "text"
      },
      "source": [
        "<a href=\"https://colab.research.google.com/github/jakub1090cn/BaldOrNot/blob/feature%2Fconfig-refactor/notebooks/train.ipynb\" target=\"_parent\"><img src=\"https://colab.research.google.com/assets/colab-badge.svg\" alt=\"Open In Colab\"/></a>"
      ]
    },
    {
      "cell_type": "code",
      "source": [
        "!pip install git+https://github.com/jakub1090cn/BaldOrNot.git@feature/config-refactor >> install_log.txt"
      ],
      "metadata": {
        "colab": {
          "base_uri": "https://localhost:8080/"
        },
        "id": "mvMR6POEmMlx",
        "outputId": "f5486513-3aab-4620-fc35-dbb4e6f9740a"
      },
      "execution_count": 11,
      "outputs": [
        {
          "output_type": "stream",
          "name": "stdout",
          "text": [
            "  Running command git clone --filter=blob:none --quiet https://github.com/jakub1090cn/BaldOrNot.git /tmp/pip-req-build-j1sjg8qg\n",
            "  Running command git checkout -b feature/config-refactor --track origin/feature/config-refactor\n",
            "  Switched to a new branch 'feature/config-refactor'\n",
            "  Branch 'feature/config-refactor' set up to track remote branch 'feature/config-refactor' from 'origin'.\n"
          ]
        }
      ]
    },
    {
      "cell_type": "markdown",
      "source": [
        "# SCRIPT"
      ],
      "metadata": {
        "id": "j2SdnXG_mNea"
      }
    },
    {
      "cell_type": "code",
      "execution_count": 4,
      "metadata": {
        "id": "cwTUgDChl-4C"
      },
      "outputs": [],
      "source": [
        "import yaml\n",
        "from src.config import BoldOrNotConfig\n",
        "from src.model_training import run_experiment\n"
      ]
    },
    {
      "cell_type": "code",
      "source": [
        "CONFIG_PATH = \"/content/config.yaml\"\n",
        "with open(CONFIG_PATH, \"r\") as fp:\n",
        "    config_dict = yaml.safe_load(fp)\n",
        "\n",
        "config = BoldOrNotConfig(**config_dict)\n",
        "print(config)"
      ],
      "metadata": {
        "colab": {
          "base_uri": "https://localhost:8080/"
        },
        "id": "jDaSWEQamH-B",
        "outputId": "1c7ae9a6-d2ee-4f51-91fc-a0b65b770501"
      },
      "execution_count": 8,
      "outputs": [
        {
          "output_type": "stream",
          "name": "stdout",
          "text": [
            "BoldOrNotConfig(model_params=ModelParams(dense_units=512, freeze_backbone=True, dropout_rate=0.5), training_params=TrainingParams(epochs=10, batch_size=32, learning_rate=0.001, optimizer='adam', loss_function='binary_crossentropy'), callbacks=[{'type': 'EarlyStopping', 'args': {'monitor': 'val_loss', 'patience': 5}}], metrics=['accuracy'], paths=Paths(train_path='', val_path='', images_dir=''))\n"
          ]
        }
      ]
    },
    {
      "cell_type": "code",
      "source": [
        "run_experiment(config=config)"
      ],
      "metadata": {
        "colab": {
          "base_uri": "https://localhost:8080/"
        },
        "id": "9nlpnY_fmIS5",
        "outputId": "9866ecc1-5086-4889-e4aa-7a23e7813dc9"
      },
      "execution_count": 9,
      "outputs": [
        {
          "output_type": "stream",
          "name": "stdout",
          "text": [
            "{\n",
            "    \"model_params\": {\n",
            "        \"dense_units\": 512,\n",
            "        \"freeze_backbone\": true,\n",
            "        \"dropout_rate\": 0.5\n",
            "    },\n",
            "    \"training_params\": {\n",
            "        \"epochs\": 10,\n",
            "        \"batch_size\": 32,\n",
            "        \"learning_rate\": 0.001,\n",
            "        \"optimizer\": \"adam\",\n",
            "        \"loss_function\": \"binary_crossentropy\"\n",
            "    },\n",
            "    \"callbacks\": [\n",
            "        {\n",
            "            \"type\": \"EarlyStopping\",\n",
            "            \"args\": {\n",
            "                \"monitor\": \"val_loss\",\n",
            "                \"patience\": 5\n",
            "            }\n",
            "        }\n",
            "    ],\n",
            "    \"metrics\": [\n",
            "        \"accuracy\"\n",
            "    ],\n",
            "    \"paths\": {\n",
            "        \"train_path\": \"\",\n",
            "        \"val_path\": \"\",\n",
            "        \"images_dir\": \"\"\n",
            "    }\n",
            "}\n"
          ]
        }
      ]
    }
  ]
}