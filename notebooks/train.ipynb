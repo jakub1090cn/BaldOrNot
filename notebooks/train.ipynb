{
  "nbformat": 4,
  "nbformat_minor": 0,
  "metadata": {
    "colab": {
      "provenance": [],
      "authorship_tag": "ABX9TyNbov04/QVJj9YajT0QoIfu",
      "include_colab_link": true
    },
    "kernelspec": {
      "name": "python3",
      "display_name": "Python 3"
    },
    "language_info": {
      "name": "python"
    }
  },
  "cells": [
    {
      "cell_type": "markdown",
      "metadata": {
        "id": "view-in-github",
        "colab_type": "text"
      },
      "source": [
        "<a href=\"https://colab.research.google.com/github/jakub1090cn/BaldOrNot/blob/feature%2Fconfig-refactor/notebooks/train.ipynb\" target=\"_parent\"><img src=\"https://colab.research.google.com/assets/colab-badge.svg\" alt=\"Open In Colab\"/></a>"
      ]
    },
    {
      "cell_type": "code",
      "source": [
        "!pip install git+https://github.com/jakub1090cn/BaldOrNot.git@feature/config-refactor"
      ],
      "metadata": {
        "colab": {
          "base_uri": "https://localhost:8080/"
        },
        "id": "mvMR6POEmMlx",
        "outputId": "52e4b2fc-aaf9-486f-8a36-2979ee9ebab2"
      },
      "execution_count": 3,
      "outputs": [
        {
          "output_type": "stream",
          "name": "stdout",
          "text": [
            "Collecting git+https://github.com/jakub1090cn/BaldOrNot.git@feature/config-refactor\n",
            "  Cloning https://github.com/jakub1090cn/BaldOrNot.git (to revision feature/config-refactor) to /tmp/pip-req-build-vsrmxvru\n",
            "  Running command git clone --filter=blob:none --quiet https://github.com/jakub1090cn/BaldOrNot.git /tmp/pip-req-build-vsrmxvru\n",
            "  Running command git checkout -b feature/config-refactor --track origin/feature/config-refactor\n",
            "  Switched to a new branch 'feature/config-refactor'\n",
            "  Branch 'feature/config-refactor' set up to track remote branch 'feature/config-refactor' from 'origin'.\n",
            "  Resolved https://github.com/jakub1090cn/BaldOrNot.git to commit 564e1d62a8bb2fc5ddcc510e5eea91598b173bc5\n",
            "  Preparing metadata (setup.py) ... \u001b[?25l\u001b[?25hdone\n",
            "Requirement already satisfied: tensorflow==2.17.0 in /usr/local/lib/python3.10/dist-packages (from XYZ==0.1.0) (2.17.0)\n",
            "Requirement already satisfied: pandas==2.1.4 in /usr/local/lib/python3.10/dist-packages (from XYZ==0.1.0) (2.1.4)\n",
            "Requirement already satisfied: opencv-python==4.10.0.84 in /usr/local/lib/python3.10/dist-packages (from XYZ==0.1.0) (4.10.0.84)\n",
            "Requirement already satisfied: PyYAML~=6.0.2rc1 in /usr/local/lib/python3.10/dist-packages (from XYZ==0.1.0) (6.0.2)\n",
            "Collecting pytest~=6.2.5 (from XYZ==0.1.0)\n",
            "  Downloading pytest-6.2.5-py3-none-any.whl.metadata (7.5 kB)\n",
            "Collecting jsonargparse==4.32.0 (from XYZ==0.1.0)\n",
            "  Downloading jsonargparse-4.32.0-py3-none-any.whl.metadata (12 kB)\n",
            "Requirement already satisfied: scikit-learn==1.3.2 in /usr/local/lib/python3.10/dist-packages (from XYZ==0.1.0) (1.3.2)\n",
            "Requirement already satisfied: numpy>=1.21.2 in /usr/local/lib/python3.10/dist-packages (from opencv-python==4.10.0.84->XYZ==0.1.0) (1.26.4)\n",
            "Requirement already satisfied: python-dateutil>=2.8.2 in /usr/local/lib/python3.10/dist-packages (from pandas==2.1.4->XYZ==0.1.0) (2.8.2)\n",
            "Requirement already satisfied: pytz>=2020.1 in /usr/local/lib/python3.10/dist-packages (from pandas==2.1.4->XYZ==0.1.0) (2024.1)\n",
            "Requirement already satisfied: tzdata>=2022.1 in /usr/local/lib/python3.10/dist-packages (from pandas==2.1.4->XYZ==0.1.0) (2024.1)\n",
            "Requirement already satisfied: scipy>=1.5.0 in /usr/local/lib/python3.10/dist-packages (from scikit-learn==1.3.2->XYZ==0.1.0) (1.13.1)\n",
            "Requirement already satisfied: joblib>=1.1.1 in /usr/local/lib/python3.10/dist-packages (from scikit-learn==1.3.2->XYZ==0.1.0) (1.4.2)\n",
            "Requirement already satisfied: threadpoolctl>=2.0.0 in /usr/local/lib/python3.10/dist-packages (from scikit-learn==1.3.2->XYZ==0.1.0) (3.5.0)\n",
            "Requirement already satisfied: absl-py>=1.0.0 in /usr/local/lib/python3.10/dist-packages (from tensorflow==2.17.0->XYZ==0.1.0) (1.4.0)\n",
            "Requirement already satisfied: astunparse>=1.6.0 in /usr/local/lib/python3.10/dist-packages (from tensorflow==2.17.0->XYZ==0.1.0) (1.6.3)\n",
            "Requirement already satisfied: flatbuffers>=24.3.25 in /usr/local/lib/python3.10/dist-packages (from tensorflow==2.17.0->XYZ==0.1.0) (24.3.25)\n",
            "Requirement already satisfied: gast!=0.5.0,!=0.5.1,!=0.5.2,>=0.2.1 in /usr/local/lib/python3.10/dist-packages (from tensorflow==2.17.0->XYZ==0.1.0) (0.6.0)\n",
            "Requirement already satisfied: google-pasta>=0.1.1 in /usr/local/lib/python3.10/dist-packages (from tensorflow==2.17.0->XYZ==0.1.0) (0.2.0)\n",
            "Requirement already satisfied: h5py>=3.10.0 in /usr/local/lib/python3.10/dist-packages (from tensorflow==2.17.0->XYZ==0.1.0) (3.11.0)\n",
            "Requirement already satisfied: libclang>=13.0.0 in /usr/local/lib/python3.10/dist-packages (from tensorflow==2.17.0->XYZ==0.1.0) (18.1.1)\n",
            "Requirement already satisfied: ml-dtypes<0.5.0,>=0.3.1 in /usr/local/lib/python3.10/dist-packages (from tensorflow==2.17.0->XYZ==0.1.0) (0.4.0)\n",
            "Requirement already satisfied: opt-einsum>=2.3.2 in /usr/local/lib/python3.10/dist-packages (from tensorflow==2.17.0->XYZ==0.1.0) (3.3.0)\n",
            "Requirement already satisfied: packaging in /usr/local/lib/python3.10/dist-packages (from tensorflow==2.17.0->XYZ==0.1.0) (24.1)\n",
            "Requirement already satisfied: protobuf!=4.21.0,!=4.21.1,!=4.21.2,!=4.21.3,!=4.21.4,!=4.21.5,<5.0.0dev,>=3.20.3 in /usr/local/lib/python3.10/dist-packages (from tensorflow==2.17.0->XYZ==0.1.0) (3.20.3)\n",
            "Requirement already satisfied: requests<3,>=2.21.0 in /usr/local/lib/python3.10/dist-packages (from tensorflow==2.17.0->XYZ==0.1.0) (2.32.3)\n",
            "Requirement already satisfied: setuptools in /usr/local/lib/python3.10/dist-packages (from tensorflow==2.17.0->XYZ==0.1.0) (71.0.4)\n",
            "Requirement already satisfied: six>=1.12.0 in /usr/local/lib/python3.10/dist-packages (from tensorflow==2.17.0->XYZ==0.1.0) (1.16.0)\n",
            "Requirement already satisfied: termcolor>=1.1.0 in /usr/local/lib/python3.10/dist-packages (from tensorflow==2.17.0->XYZ==0.1.0) (2.4.0)\n",
            "Requirement already satisfied: typing-extensions>=3.6.6 in /usr/local/lib/python3.10/dist-packages (from tensorflow==2.17.0->XYZ==0.1.0) (4.12.2)\n",
            "Requirement already satisfied: wrapt>=1.11.0 in /usr/local/lib/python3.10/dist-packages (from tensorflow==2.17.0->XYZ==0.1.0) (1.16.0)\n",
            "Requirement already satisfied: grpcio<2.0,>=1.24.3 in /usr/local/lib/python3.10/dist-packages (from tensorflow==2.17.0->XYZ==0.1.0) (1.64.1)\n",
            "Requirement already satisfied: tensorboard<2.18,>=2.17 in /usr/local/lib/python3.10/dist-packages (from tensorflow==2.17.0->XYZ==0.1.0) (2.17.0)\n",
            "Requirement already satisfied: keras>=3.2.0 in /usr/local/lib/python3.10/dist-packages (from tensorflow==2.17.0->XYZ==0.1.0) (3.4.1)\n",
            "Requirement already satisfied: tensorflow-io-gcs-filesystem>=0.23.1 in /usr/local/lib/python3.10/dist-packages (from tensorflow==2.17.0->XYZ==0.1.0) (0.37.1)\n",
            "Requirement already satisfied: attrs>=19.2.0 in /usr/local/lib/python3.10/dist-packages (from pytest~=6.2.5->XYZ==0.1.0) (24.2.0)\n",
            "Requirement already satisfied: iniconfig in /usr/local/lib/python3.10/dist-packages (from pytest~=6.2.5->XYZ==0.1.0) (2.0.0)\n",
            "Requirement already satisfied: pluggy<2.0,>=0.12 in /usr/local/lib/python3.10/dist-packages (from pytest~=6.2.5->XYZ==0.1.0) (1.5.0)\n",
            "Collecting py>=1.8.2 (from pytest~=6.2.5->XYZ==0.1.0)\n",
            "  Downloading py-1.11.0-py2.py3-none-any.whl.metadata (2.8 kB)\n",
            "Requirement already satisfied: toml in /usr/local/lib/python3.10/dist-packages (from pytest~=6.2.5->XYZ==0.1.0) (0.10.2)\n",
            "Requirement already satisfied: wheel<1.0,>=0.23.0 in /usr/local/lib/python3.10/dist-packages (from astunparse>=1.6.0->tensorflow==2.17.0->XYZ==0.1.0) (0.44.0)\n",
            "Requirement already satisfied: rich in /usr/local/lib/python3.10/dist-packages (from keras>=3.2.0->tensorflow==2.17.0->XYZ==0.1.0) (13.7.1)\n",
            "Requirement already satisfied: namex in /usr/local/lib/python3.10/dist-packages (from keras>=3.2.0->tensorflow==2.17.0->XYZ==0.1.0) (0.0.8)\n",
            "Requirement already satisfied: optree in /usr/local/lib/python3.10/dist-packages (from keras>=3.2.0->tensorflow==2.17.0->XYZ==0.1.0) (0.12.1)\n",
            "Requirement already satisfied: charset-normalizer<4,>=2 in /usr/local/lib/python3.10/dist-packages (from requests<3,>=2.21.0->tensorflow==2.17.0->XYZ==0.1.0) (3.3.2)\n",
            "Requirement already satisfied: idna<4,>=2.5 in /usr/local/lib/python3.10/dist-packages (from requests<3,>=2.21.0->tensorflow==2.17.0->XYZ==0.1.0) (3.7)\n",
            "Requirement already satisfied: urllib3<3,>=1.21.1 in /usr/local/lib/python3.10/dist-packages (from requests<3,>=2.21.0->tensorflow==2.17.0->XYZ==0.1.0) (2.0.7)\n",
            "Requirement already satisfied: certifi>=2017.4.17 in /usr/local/lib/python3.10/dist-packages (from requests<3,>=2.21.0->tensorflow==2.17.0->XYZ==0.1.0) (2024.7.4)\n",
            "Requirement already satisfied: markdown>=2.6.8 in /usr/local/lib/python3.10/dist-packages (from tensorboard<2.18,>=2.17->tensorflow==2.17.0->XYZ==0.1.0) (3.6)\n",
            "Requirement already satisfied: tensorboard-data-server<0.8.0,>=0.7.0 in /usr/local/lib/python3.10/dist-packages (from tensorboard<2.18,>=2.17->tensorflow==2.17.0->XYZ==0.1.0) (0.7.2)\n",
            "Requirement already satisfied: werkzeug>=1.0.1 in /usr/local/lib/python3.10/dist-packages (from tensorboard<2.18,>=2.17->tensorflow==2.17.0->XYZ==0.1.0) (3.0.3)\n",
            "Requirement already satisfied: MarkupSafe>=2.1.1 in /usr/local/lib/python3.10/dist-packages (from werkzeug>=1.0.1->tensorboard<2.18,>=2.17->tensorflow==2.17.0->XYZ==0.1.0) (2.1.5)\n",
            "Requirement already satisfied: markdown-it-py>=2.2.0 in /usr/local/lib/python3.10/dist-packages (from rich->keras>=3.2.0->tensorflow==2.17.0->XYZ==0.1.0) (3.0.0)\n",
            "Requirement already satisfied: pygments<3.0.0,>=2.13.0 in /usr/local/lib/python3.10/dist-packages (from rich->keras>=3.2.0->tensorflow==2.17.0->XYZ==0.1.0) (2.16.1)\n",
            "Requirement already satisfied: mdurl~=0.1 in /usr/local/lib/python3.10/dist-packages (from markdown-it-py>=2.2.0->rich->keras>=3.2.0->tensorflow==2.17.0->XYZ==0.1.0) (0.1.2)\n",
            "Downloading jsonargparse-4.32.0-py3-none-any.whl (206 kB)\n",
            "\u001b[2K   \u001b[90m━━━━━━━━━━━━━━━━━━━━━━━━━━━━━━━━━━━━━━━━\u001b[0m \u001b[32m206.7/206.7 kB\u001b[0m \u001b[31m5.8 MB/s\u001b[0m eta \u001b[36m0:00:00\u001b[0m\n",
            "\u001b[?25hDownloading pytest-6.2.5-py3-none-any.whl (280 kB)\n",
            "\u001b[2K   \u001b[90m━━━━━━━━━━━━━━━━━━━━━━━━━━━━━━━━━━━━━━━━\u001b[0m \u001b[32m280.7/280.7 kB\u001b[0m \u001b[31m18.7 MB/s\u001b[0m eta \u001b[36m0:00:00\u001b[0m\n",
            "\u001b[?25hDownloading py-1.11.0-py2.py3-none-any.whl (98 kB)\n",
            "\u001b[2K   \u001b[90m━━━━━━━━━━━━━━━━━━━━━━━━━━━━━━━━━━━━━━━━\u001b[0m \u001b[32m98.7/98.7 kB\u001b[0m \u001b[31m6.9 MB/s\u001b[0m eta \u001b[36m0:00:00\u001b[0m\n",
            "\u001b[?25hBuilding wheels for collected packages: XYZ\n",
            "  Building wheel for XYZ (setup.py) ... \u001b[?25l\u001b[?25hdone\n",
            "  Created wheel for XYZ: filename=XYZ-0.1.0-py3-none-any.whl size=6471 sha256=261167fbe603e2cefef1b8141178a13ede0ee756bfc6913c1b3f8028fc34015b\n",
            "  Stored in directory: /tmp/pip-ephem-wheel-cache-oq74boqe/wheels/40/d7/2b/419ad24db04e01f3990cc89eddee272cff7dce0efa0eb7655c\n",
            "Successfully built XYZ\n",
            "Installing collected packages: py, jsonargparse, pytest, XYZ\n",
            "  Attempting uninstall: pytest\n",
            "    Found existing installation: pytest 7.4.4\n",
            "    Uninstalling pytest-7.4.4:\n",
            "      Successfully uninstalled pytest-7.4.4\n",
            "Successfully installed XYZ-0.1.0 jsonargparse-4.32.0 py-1.11.0 pytest-6.2.5\n"
          ]
        }
      ]
    },
    {
      "cell_type": "markdown",
      "source": [
        "# SCRIPT"
      ],
      "metadata": {
        "id": "j2SdnXG_mNea"
      }
    },
    {
      "cell_type": "code",
      "execution_count": 4,
      "metadata": {
        "id": "cwTUgDChl-4C"
      },
      "outputs": [],
      "source": [
        "import yaml\n",
        "from src.config import BoldOrNotConfig\n",
        "from src.model_training import run_experiment\n"
      ]
    },
    {
      "cell_type": "code",
      "source": [
        "CONFIG_PATH = \"/content/config.yaml\"\n",
        "with open(CONFIG_PATH, \"r\") as fp:\n",
        "    config_dict = yaml.safe_load(fp)\n",
        "\n",
        "config = BoldOrNotConfig(**config_dict)\n",
        "print(config)"
      ],
      "metadata": {
        "colab": {
          "base_uri": "https://localhost:8080/"
        },
        "id": "jDaSWEQamH-B",
        "outputId": "1c7ae9a6-d2ee-4f51-91fc-a0b65b770501"
      },
      "execution_count": 8,
      "outputs": [
        {
          "output_type": "stream",
          "name": "stdout",
          "text": [
            "BoldOrNotConfig(model_params=ModelParams(dense_units=512, freeze_backbone=True, dropout_rate=0.5), training_params=TrainingParams(epochs=10, batch_size=32, learning_rate=0.001, optimizer='adam', loss_function='binary_crossentropy'), callbacks=[{'type': 'EarlyStopping', 'args': {'monitor': 'val_loss', 'patience': 5}}], metrics=['accuracy'], paths=Paths(train_path='', val_path='', images_dir=''))\n"
          ]
        }
      ]
    },
    {
      "cell_type": "code",
      "source": [
        "run_experiment(config=config)"
      ],
      "metadata": {
        "colab": {
          "base_uri": "https://localhost:8080/"
        },
        "id": "9nlpnY_fmIS5",
        "outputId": "9866ecc1-5086-4889-e4aa-7a23e7813dc9"
      },
      "execution_count": 9,
      "outputs": [
        {
          "output_type": "stream",
          "name": "stdout",
          "text": [
            "{\n",
            "    \"model_params\": {\n",
            "        \"dense_units\": 512,\n",
            "        \"freeze_backbone\": true,\n",
            "        \"dropout_rate\": 0.5\n",
            "    },\n",
            "    \"training_params\": {\n",
            "        \"epochs\": 10,\n",
            "        \"batch_size\": 32,\n",
            "        \"learning_rate\": 0.001,\n",
            "        \"optimizer\": \"adam\",\n",
            "        \"loss_function\": \"binary_crossentropy\"\n",
            "    },\n",
            "    \"callbacks\": [\n",
            "        {\n",
            "            \"type\": \"EarlyStopping\",\n",
            "            \"args\": {\n",
            "                \"monitor\": \"val_loss\",\n",
            "                \"patience\": 5\n",
            "            }\n",
            "        }\n",
            "    ],\n",
            "    \"metrics\": [\n",
            "        \"accuracy\"\n",
            "    ],\n",
            "    \"paths\": {\n",
            "        \"train_path\": \"\",\n",
            "        \"val_path\": \"\",\n",
            "        \"images_dir\": \"\"\n",
            "    }\n",
            "}\n"
          ]
        }
      ]
    }
  ]
}